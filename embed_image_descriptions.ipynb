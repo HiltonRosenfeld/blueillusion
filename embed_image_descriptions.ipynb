{
 "cells": [
  {
   "cell_type": "markdown",
   "metadata": {},
   "source": [
    "# Populate Vector DB with Image Description Embeddings"
   ]
  },
  {
   "cell_type": "markdown",
   "metadata": {},
   "source": [
    "## Fetch Images from Pickle file"
   ]
  },
  {
   "cell_type": "markdown",
   "metadata": {},
   "source": [
    "We will generate a text description of each image using a vision LLM. That description will be stored as an embedding for future search."
   ]
  },
  {
   "cell_type": "markdown",
   "metadata": {},
   "source": [
    "#### Function to Generate Text Description"
   ]
  },
  {
   "cell_type": "code",
   "execution_count": null,
   "metadata": {},
   "outputs": [],
   "source": [
    "import base64\n",
    "import os\n",
    "from PIL import Image\n",
    "import io\n",
    "import requests\n",
    "from openai import OpenAI\n",
    "\n",
    "from config import Config\n",
    "\n",
    "\n",
    "client = OpenAI(\n",
    "    api_key=os.getenv(\"OPENAI_API_KEY\"),\n",
    ")\n",
    "\n",
    "\n",
    "def encode_image(image_url):\n",
    "    with Image.open(requests.get(image_url, stream=True).raw) as img:\n",
    "    #with Image.open(image_url) as img:\n",
    "        # Resize the image to maximum dimension of 512 pixels\n",
    "        img.thumbnail((512, 512))\n",
    "        buffered = io.BytesIO()\n",
    "        img.save(buffered, format=\"JPEG\")\n",
    "        return base64.b64encode(buffered.getvalue()).decode('utf-8')\n",
    "\n",
    "\n",
    "def analyse_image_file(image_url, title):\n",
    "    encoded_string = encode_image(image_url)\n",
    "    user_prompt = \"Describe in detail only the {title}.\"\n",
    "    response = client.chat.completions.create(\n",
    "        model=Config.VISION_MODEL,\n",
    "        #max_tokens=Config.MAX_TOKENS,\n",
    "        messages=[\n",
    "            {\n",
    "                \"role\": \"system\",\n",
    "                \"content\": [{\"type\": \"text\", \"text\": Config.SYSTEM_PROMPT},],\n",
    "            },\n",
    "            {\n",
    "                \"role\": \"user\",\n",
    "                \"content\": [\n",
    "                    {\n",
    "                        \"type\": \"image_url\",\n",
    "                        \"image_url\": {\n",
    "                            #\"url\":image_url,\n",
    "                            \"url\": f\"data:image/jpeg;base64,{encoded_string}\"\n",
    "                            #\"detail\": Config.DETAIL,\n",
    "                        },\n",
    "                    }\n",
    "                ],\n",
    "            },\n",
    "            {\n",
    "                \"role\": \"user\",\n",
    "                \"content\": [{\"type\": \"text\", \"text\": user_prompt},],\n",
    "            },\n",
    "        ],\n",
    "    )\n",
    "    return response.choices[0].message.content    "
   ]
  },
  {
   "cell_type": "markdown",
   "metadata": {},
   "source": [
    "#### Read Pickle File"
   ]
  },
  {
   "cell_type": "code",
   "execution_count": null,
   "metadata": {},
   "outputs": [],
   "source": [
    "import pickle\n",
    "\n",
    "# read data to reconstitute into a list of documents \"data\"\n",
    "# the data is in the form of LangChain Document objects\n",
    "with open(\"website_data.pkl\", \"rb\") as f:\n",
    "    data = pickle.load(f)"
   ]
  },
  {
   "cell_type": "code",
   "execution_count": null,
   "metadata": {},
   "outputs": [],
   "source": [
    "\"\"\"\n",
    "page_content='Description:\\nYour next special occasion outfit calls for our A-Line Lace Midi Skirt in Bright Chartreuse. Featuring a scalloped hem with eyelash lace, this is a soft and vibrant skirt that will light up your outfit. Create an alluring set with our Lace Shirt in matching Bright Chartreuse.Style/SKU: 416763CBM.3265\\n\\nDetails:\\nCotton blend lace/viscose jersey lining\\nMidi-length\\nGarment length: 80cm (size XS)\\nA-line silhouette\\nCentre back invisible zip with hook and eye\\nfastening\\nScalloped hem with eyelash lace\\nFully lined\\nMain: 45% cotton, 35% polyamide, 20% viscose\\nLining: 95% viscose, 5% elastane\\nBright Chartreuse\\nModel is 175cm tall and wearing a size XS' \n",
    "metadata={\n",
    "    'source': 'https://blueillusion.com/products/an-a-line-lace-midi-skirt-416763cbm-bright-chartreuse', \n",
    "    'title': 'A-Line Lace Midi Skirt', \n",
    "    'price': '25.00', \n",
    "    'img': '//blueillusion.com/cdn/shop/files/23.04.26.BlueIllusion_s10_1077.jpg', \n",
    "    'language': 'en'\n",
    "}\n",
    "\"\"\""
   ]
  },
  {
   "cell_type": "markdown",
   "metadata": {},
   "source": [
    "#### Update page_content with image description"
   ]
  },
  {
   "cell_type": "markdown",
   "metadata": {},
   "source": [
    "- The Document data imported from the pickle file has two attribute: page_content and metadata.\n",
    "- The page_content is formatted with a Description section and a Details section.\n",
    "- We will add a new section called Image Description, which will hold the LLM generated image description."
   ]
  },
  {
   "cell_type": "code",
   "execution_count": null,
   "metadata": {},
   "outputs": [],
   "source": [
    "# read filenames from images_done.txt\n",
    "with open(\"images_done.txt\", \"r\") as f:\n",
    "    images_done = f.read().splitlines()\n",
    "print(len(images_done))"
   ]
  },
  {
   "cell_type": "code",
   "execution_count": null,
   "metadata": {},
   "outputs": [],
   "source": [
    "for document in data:\n",
    "    # get the image URL from the metadata\n",
    "    image_url = f\"https:{document.metadata['img']}\"\n",
    "\n",
    "    # check if the image has already been processed\n",
    "    if image_url in images_done:\n",
    "        continue\n",
    "\n",
    "    print(f\"Processing: {image_url} ... \", end=\" \")\n",
    "    \n",
    "    # check if the image extension is not jpg or jpeg\n",
    "    if not image_url.endswith(\".jpg\") and not image_url.endswith(\".jpeg\"):\n",
    "        print(\"Not JPG\")\n",
    "        continue\n",
    "    \n",
    "    # generate the text description from the image\n",
    "    title = document.metadata['title']\n",
    "    text_description = analyse_image_file(image_url, title)\n",
    "\n",
    "    # get the page_content from the data object\n",
    "    page_content = document.page_content\n",
    "\n",
    "    # seperate the page_content into two objects - Description and Details\n",
    "    description, details = page_content.split(\"Details:\")\n",
    "\n",
    "    # remove everything after Style/SKU\n",
    "    description = description.split(\"Style/SKU\")[0]\n",
    "\n",
    "    # append text_description to the description\n",
    "    description += f\"\\n\\nImage Description:\\n{text_description}\"\n",
    "\n",
    "    # recombine the description and details\n",
    "    page_content = description + f\"\\n\\nDetails: {details}\"\n",
    "\n",
    "    document.page_content = page_content\n",
    "\n",
    "    print(\"Done\")\n",
    "\n",
    "    # create a new pickle file\n",
    "    with open(\"pickle_progress201.pkl\", \"wb\") as f:\n",
    "        pickle.dump(data, f)"
   ]
  },
  {
   "cell_type": "markdown",
   "metadata": {},
   "source": [
    "#### Write New Pickle File"
   ]
  },
  {
   "cell_type": "code",
   "execution_count": null,
   "metadata": {},
   "outputs": [],
   "source": [
    "import pickle\n",
    "\n",
    "# write data to file in a way that it can be reconstituted into a list of documents\n",
    "with open(\"website_data_with_image_descriptions.pkl\", \"wb\") as f:\n",
    "    pickle.dump(data, f)"
   ]
  },
  {
   "cell_type": "markdown",
   "metadata": {},
   "source": []
  },
  {
   "cell_type": "markdown",
   "metadata": {},
   "source": [
    "### Join Pickel Files"
   ]
  },
  {
   "cell_type": "code",
   "execution_count": null,
   "metadata": {},
   "outputs": [],
   "source": [
    "import pickle\n",
    "\n",
    "data_new = []\n",
    "image_files = []\n",
    "\n",
    "files = [\n",
    "    \"pickle_progress0.pkl\",\n",
    "    \"pickle_progress201.pkl\",\n",
    "]\n",
    "\n",
    "for file in files:\n",
    "\n",
    "    # load pickle file\n",
    "    with open(file, \"rb\") as f:\n",
    "        data = pickle.load(f)\n",
    "\n",
    "    # iterate over data\n",
    "    yes = 0\n",
    "    no = 0\n",
    "    for doc in data:\n",
    "        page_content = doc.page_content\n",
    "        image_file = f\"https:{doc.metadata['img']}\"\n",
    "\n",
    "        if image_file not in image_files:\n",
    "            # we have not seen this image, so continue\n",
    "            if \"Image Description:\" in page_content:\n",
    "                # append image_file to image_files\n",
    "                image_files.append(image_file)\n",
    "\n",
    "                # an Image Description exists for this document, so append doc to data_new\n",
    "                yes += 1\n",
    "                #append doc to data_new\n",
    "                data_new.append(doc)\n",
    "            else:\n",
    "                no += 1\n",
    "    print(f\"yes: {yes}, no: {no}\") \n",
    "    print (len(data_new))"
   ]
  },
  {
   "cell_type": "code",
   "execution_count": null,
   "metadata": {},
   "outputs": [],
   "source": [
    "#print (data_new[50].page_content)\n",
    "# write data_new to pickle file\n",
    "with open(\"website_data_with_image_descriptions.pkl\", \"wb\") as f:\n",
    "    pickle.dump(data_new, f)"
   ]
  },
  {
   "cell_type": "code",
   "execution_count": null,
   "metadata": {},
   "outputs": [],
   "source": []
  }
 ],
 "metadata": {
  "kernelspec": {
   "display_name": "env_vector",
   "language": "python",
   "name": "python3"
  },
  "language_info": {
   "codemirror_mode": {
    "name": "ipython",
    "version": 3
   },
   "file_extension": ".py",
   "mimetype": "text/x-python",
   "name": "python",
   "nbconvert_exporter": "python",
   "pygments_lexer": "ipython3",
   "version": "3.9.19"
  },
  "orig_nbformat": 4
 },
 "nbformat": 4,
 "nbformat_minor": 2
}
